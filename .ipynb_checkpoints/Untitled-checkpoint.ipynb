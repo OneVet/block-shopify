{
 "cells": [
  {
   "cell_type": "code",
   "execution_count": 19,
   "metadata": {},
   "outputs": [],
   "source": [
    "import lkml\n",
    "\n",
    "with open('block_shopify.model.lkml', 'r') as file:\n",
    "    parsed = lkml.load(file)"
   ]
  },
  {
   "cell_type": "code",
   "execution_count": 20,
   "metadata": {},
   "outputs": [
    {
     "data": {
      "text/plain": [
       "{'connection': '@{CONNECTION_NAME}',\n",
       " 'includes': ['views/*.view.lkml',\n",
       "  '*.dashboard.lookml',\n",
       "  '//@{CONFIG_PROJECT_NAME}/*.view.lkml',\n",
       "  '//@{CONFIG_PROJECT_NAME}/*.model.lkml'],\n",
       " 'explores': [{'extension': 'required', 'name': 'orders_core'},\n",
       "  {'view_name': 'order',\n",
       "   'extends': ['orders_config'],\n",
       "   'joins': [{'sql_on': '${order_line.order_id} = ${order.id}',\n",
       "     'relationship': 'one_to_many',\n",
       "     'name': 'order_line'},\n",
       "    {'sql_on': '${order_tag.order_id} = ${order.id}',\n",
       "     'relationship': 'many_to_one',\n",
       "     'name': 'order_tag'},\n",
       "    {'sql_on': '${location.id} = ${order.location_id}',\n",
       "     'relationship': 'many_to_one',\n",
       "     'name': 'location'},\n",
       "    {'sql_on': '${product.id} = ${order_line.product_id}',\n",
       "     'relationship': 'one_to_one',\n",
       "     'name': 'product'},\n",
       "    {'sql_on': '${collect.product_id} = ${product.id}',\n",
       "     'relationship': 'many_to_one',\n",
       "     'name': 'collect'},\n",
       "    {'sql_on': '${collection.id} = ${collect.collection_id}',\n",
       "     'relationship': 'many_to_one',\n",
       "     'name': 'collection'},\n",
       "    {'sql_on': '${product_option.product_id} = ${product.id}',\n",
       "     'relationship': 'many_to_one',\n",
       "     'name': 'product_option'},\n",
       "    {'sql_on': '${product_tag.product_id} = ${product.id}',\n",
       "     'relationship': 'many_to_one',\n",
       "     'name': 'product_tag'},\n",
       "    {'sql_on': '${product_variant.id} = ${order_line.variant_id}',\n",
       "     'relationship': 'many_to_one',\n",
       "     'name': 'product_variant'},\n",
       "    {'sql_on': '${customer.id} = ${order.customer_id}',\n",
       "     'relationship': 'many_to_one',\n",
       "     'name': 'customer'},\n",
       "    {'sql_on': '${customer_address.customer_id} = ${customer.id}',\n",
       "     'relationship': 'many_to_one',\n",
       "     'name': 'customer_address'},\n",
       "    {'sql_on': '${customer_tag.customer_id} = ${customer.id}',\n",
       "     'relationship': 'many_to_one',\n",
       "     'name': 'customer_tag'}],\n",
       "   'name': 'orders'}],\n",
       " 'named_value_formats': [{'value_format': '[>=1000000]$0.00,,\\\\\"M\\\\\";[>=1000]$0.00,\\\\\"K\\\\\";$0.00',\n",
       "   'name': 'largeamount'}]}"
      ]
     },
     "execution_count": 20,
     "metadata": {},
     "output_type": "execute_result"
    }
   ],
   "source": [
    "parsed"
   ]
  },
  {
   "cell_type": "code",
   "execution_count": 13,
   "metadata": {},
   "outputs": [
    {
     "name": "stdout",
     "output_type": "stream",
     "text": [
      "order_line\n",
      "order_tag\n",
      "location\n",
      "product\n",
      "collect\n",
      "collection\n",
      "product_option\n",
      "product_tag\n",
      "product_variant\n",
      "customer\n",
      "customer_address\n",
      "customer_tag\n"
     ]
    }
   ],
   "source": [
    "for join in parsed['explores'][1]['joins']:\n",
    "    print(join['name'])"
   ]
  },
  {
   "cell_type": "code",
   "execution_count": 14,
   "metadata": {},
   "outputs": [],
   "source": [
    "with open('views/order_core.view.lkml', 'r') as file:\n",
    "    parsed = lkml.load(file)"
   ]
  },
  {
   "cell_type": "code",
   "execution_count": 18,
   "metadata": {},
   "outputs": [
    {
     "name": "stdout",
     "output_type": "stream",
     "text": [
      "id\n",
      "billing_address_address_1\n",
      "billing_address_address_2\n",
      "billing_address_city\n",
      "billing_address_company\n",
      "billing_address_country\n",
      "billing_address_country_code\n",
      "billing_address_first_name\n",
      "billing_address_last_name\n",
      "billing_address_latitude\n",
      "billing_address_longitude\n",
      "billing_address_name\n",
      "billing_address_phone\n",
      "billing_address_province\n",
      "billing_address_province_code\n",
      "billing_address_zip\n",
      "browser_ip\n",
      "buyer_accepts_marketing\n",
      "cancel_reason\n",
      "cart_token\n",
      "checkout_token\n",
      "currency\n",
      "customer_id\n",
      "email\n",
      "financial_status\n",
      "fulfillment_status\n",
      "landing_site_base_url\n",
      "location_id\n",
      "name\n",
      "note\n",
      "number\n",
      "order_number\n",
      "processing_method\n",
      "referring_site\n",
      "shipping_address_address_1\n",
      "shipping_address_address_2\n",
      "shipping_address_city\n",
      "shipping_address_company\n",
      "shipping_address_country\n",
      "shipping_address_country_code\n",
      "shipping_address_first_name\n",
      "shipping_address_last_name\n",
      "shipping_address_latitude\n",
      "shipping_address_longitude\n",
      "shipping_location\n",
      "shipping_address_name\n",
      "shipping_address_phone\n",
      "shipping_address_province\n",
      "shipping_address_province_code\n",
      "shipping_address_zip\n",
      "source_name\n",
      "subtotal_price\n",
      "taxes_included\n",
      "token\n",
      "total_discounts\n",
      "total_line_items_price\n",
      "total_price\n",
      "total_tax\n",
      "total_weight\n",
      "user_id\n"
     ]
    }
   ],
   "source": [
    "for dimension in parsed['views'][1]['dimensions']:\n",
    "    print(dimension['name'])"
   ]
  },
  {
   "cell_type": "code",
   "execution_count": 41,
   "metadata": {},
   "outputs": [
    {
     "ename": "SyntaxError",
     "evalue": "unexpected EOF while parsing (<ipython-input-41-bf57e5b94628>, line 12)",
     "output_type": "error",
     "traceback": [
      "\u001b[0;36m  File \u001b[0;32m\"<ipython-input-41-bf57e5b94628>\"\u001b[0;36m, line \u001b[0;32m12\u001b[0m\n\u001b[0;31m    #             print(tokens[0].split('.')[0]+':'+tokens[0].replace('.','')+' -> '+tokens[1].split('.')[0]+':'+tokens[1].replace('.',''))\u001b[0m\n\u001b[0m                                                                                                                                           ^\u001b[0m\n\u001b[0;31mSyntaxError\u001b[0m\u001b[0;31m:\u001b[0m unexpected EOF while parsing\n"
     ]
    }
   ],
   "source": [
    "with open('j_looker.model.lkml', 'r') as file:\n",
    "    parsed = lkml.load(file)\n",
    "for explore in parsed['explores']:\n",
    "    for join in explore['joins']:\n",
    "        try: \n",
    "            spot = join['sql_on']\n",
    "            tokens = spot.replace('$', '').replace('{', '').replace('}', '').split(' = ')\n",
    "            print(tokens[0].split('.')[0]+':'+tokens[0].replace('.','')+' -> '+tokens[1].split('.')[0]+':'+tokens[1].replace('.',''))\n",
    "        except KeyError as e:\n",
    "            print(join['foreign_key'])\n",
    "#             spot = join['foreign_key']\n",
    "#             tokens = spot.replace('$', '').replace('{', '').replace('}', '').split(' = ')\n",
    "#             print(tokens[0].split('.')[0]+':'+tokens[0].replace('.','')+' -> '+tokens[1].split('.')[0]+':'+tokens[1].replace('.',''))"
   ]
  },
  {
   "cell_type": "code",
   "execution_count": null,
   "metadata": {},
   "outputs": [],
   "source": []
  },
  {
   "cell_type": "code",
   "execution_count": null,
   "metadata": {},
   "outputs": [],
   "source": []
  }
 ],
 "metadata": {
  "kernelspec": {
   "display_name": "Python 3",
   "language": "python",
   "name": "python3"
  },
  "language_info": {
   "codemirror_mode": {
    "name": "ipython",
    "version": 3
   },
   "file_extension": ".py",
   "mimetype": "text/x-python",
   "name": "python",
   "nbconvert_exporter": "python",
   "pygments_lexer": "ipython3",
   "version": "3.7.4"
  }
 },
 "nbformat": 4,
 "nbformat_minor": 2
}
